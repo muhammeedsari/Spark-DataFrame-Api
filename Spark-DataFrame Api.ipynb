{
 "cells": [
  {
   "cell_type": "markdown",
   "id": "458ead24",
   "metadata": {},
   "source": [
    "# Pyspark DataFrame API"
   ]
  },
  {
   "cell_type": "markdown",
   "id": "eae65dc5",
   "metadata": {},
   "source": [
    "## Contents"
   ]
  },
  {
   "cell_type": "markdown",
   "id": "4bcad96b",
   "metadata": {},
   "source": [
    "1 - DataFrame.show()\n",
    "2 - StructType & StructField & Schema\n",
    "3 - Column Operators\n",
    "\n",
    "1 - alias(*alias, *kwargs)\n",
    "2 - when(condition, value) / otherwise(value)\n",
    "3 - between(lowerBound, upperBound)\n",
    "4 - contains()\n",
    "5 - startswith() / endswith()\n",
    "6 - isNotNull() / isNull()\n",
    "7 - isin(*cols)\n",
    "8 - like()\n",
    "9 - asc() & desc() – Sort()\n",
    "10 - cast() & astype()\n",
    "11 - between() \n",
    "12 - contains()\n",
    "13 - startswith() & endswith()\n",
    "14 - isNull & isNotNull()\n",
    "15 - like() & rlike()\n",
    "16 - when() & otherwise()\n",
    "17 - isin()\n",
    "18 - Where() - Filter()\n",
    "19 - na.drop()\n",
    "20 - Collect()\n",
    "21 - select()\n",
    "22 - describe()\n",
    "23 - withColumn()\n",
    "24 - lit()\n",
    "25 - withColumnRenamed()\n",
    "26 - drop()\n",
    "27 - distinct() / dropDuplicates()\n",
    "28 - orderBy() and sort()\n",
    "29 - groupBy()\n",
    "        1-count()  \n",
    "        2-mean()  \n",
    "        3-max()\n",
    "        4-min()\n",
    "        5-sum()\n",
    "        6-avg()\n",
    "30 - agg()\n",
    "5 - Join Types | Join Two DataFrames\n",
    "6 - Union()"
   ]
  },
  {
   "cell_type": "markdown",
   "id": "39e983b3",
   "metadata": {},
   "source": [
    "# Import Libraries"
   ]
  },
  {
   "cell_type": "code",
   "execution_count": 1,
   "id": "46600994",
   "metadata": {},
   "outputs": [],
   "source": [
    "from pyspark.sql import SparkSession\n",
    "from pyspark.sql import functions as f\n",
    "from pyspark.sql.functions import *"
   ]
  },
  {
   "cell_type": "markdown",
   "id": "292eaae2",
   "metadata": {},
   "source": [
    "# Build SparkSession"
   ]
  },
  {
   "cell_type": "code",
   "execution_count": 2,
   "id": "977104fc",
   "metadata": {},
   "outputs": [],
   "source": [
    "spark = SparkSession.builder \\\n",
    ".master(\"local[*]\") \\\n",
    ".appName(\"ml\") \\\n",
    ".config(\"spark.executor.memory\",\"8g\") \\\n",
    ".config(\"spark.driver.memory\",\"8g\") \\\n",
    ".getOrCreate()"
   ]
  },
  {
   "cell_type": "markdown",
   "id": "4bafa2b3",
   "metadata": {},
   "source": [
    "# Create DataFrame"
   ]
  },
  {
   "cell_type": "code",
   "execution_count": 3,
   "id": "019bac9b",
   "metadata": {},
   "outputs": [],
   "source": [
    "adult_train_df = spark.read \\\n",
    ".option(\"header\", True) \\\n",
    ".option(\"inferSchema\", True) \\\n",
    ".option(\"sep\", \",\") \\\n",
    ".csv(\"/home/jovyan/work/archive/adult/adult.data\")"
   ]
  },
  {
   "cell_type": "markdown",
   "id": "42cae78e",
   "metadata": {},
   "source": [
    "## .show()\n",
    "PySpark DataFrame show() is used to display the contents of the DataFrame in a Table Row & Column Format. By default, it shows only 20 Rows, and the column values are truncated at 20 characters."
   ]
  },
  {
   "cell_type": "code",
   "execution_count": 4,
   "id": "af534244",
   "metadata": {},
   "outputs": [
    {
     "name": "stdout",
     "output_type": "stream",
     "text": [
      "+---+-----------------+--------+----------+-------------+-------------------+------------------+--------------+------+-----+------------+------------+--------------+--------------+------+\n",
      "|age|        workclass|  fnlwgt| education|education_num|     marital_status|        occupation|  relationship|  race|  sex|capital_gain|capital_loss|hours_per_week|native_country|output|\n",
      "+---+-----------------+--------+----------+-------------+-------------------+------------------+--------------+------+-----+------------+------------+--------------+--------------+------+\n",
      "| 39|        State-gov| 77516.0| Bachelors|         13.0|      Never-married|      Adm-clerical| Not-in-family| White| Male|      2174.0|         0.0|          40.0| United-States| <=50K|\n",
      "| 50| Self-emp-not-inc| 83311.0| Bachelors|         13.0| Married-civ-spouse|   Exec-managerial|       Husband| White| Male|         0.0|         0.0|          13.0| United-States| <=50K|\n",
      "| 38|          Private|215646.0|   HS-grad|          9.0|           Divorced| Handlers-cleaners| Not-in-family| White| Male|         0.0|         0.0|          40.0| United-States| <=50K|\n",
      "| 53|          Private|234721.0|      11th|          7.0| Married-civ-spouse| Handlers-cleaners|       Husband| Black| Male|         0.0|         0.0|          40.0| United-States| <=50K|\n",
      "+---+-----------------+--------+----------+-------------+-------------------+------------------+--------------+------+-----+------------+------------+--------------+--------------+------+\n",
      "only showing top 4 rows\n",
      "\n"
     ]
    }
   ],
   "source": [
    "adult_train_df.show(4)"
   ]
  },
  {
   "cell_type": "markdown",
   "id": "03c453ab",
   "metadata": {},
   "source": [
    "## .toPandas() & .limit()\n",
    "PySpark DataFrame provides a method toPandas() to convert it Python Pandas DataFrame.\n",
    "\n",
    "toPandas() results in the collection of all records in the PySpark DataFrame to the driver program and should be done on a small subset of the data. running on larger dataset’s results in memory error and crashes the application."
   ]
  },
  {
   "cell_type": "code",
   "execution_count": 5,
   "id": "31550d8d",
   "metadata": {},
   "outputs": [
    {
     "data": {
      "text/html": [
       "<div>\n",
       "<style scoped>\n",
       "    .dataframe tbody tr th:only-of-type {\n",
       "        vertical-align: middle;\n",
       "    }\n",
       "\n",
       "    .dataframe tbody tr th {\n",
       "        vertical-align: top;\n",
       "    }\n",
       "\n",
       "    .dataframe thead th {\n",
       "        text-align: right;\n",
       "    }\n",
       "</style>\n",
       "<table border=\"1\" class=\"dataframe\">\n",
       "  <thead>\n",
       "    <tr style=\"text-align: right;\">\n",
       "      <th></th>\n",
       "      <th>age</th>\n",
       "      <th>workclass</th>\n",
       "      <th>fnlwgt</th>\n",
       "      <th>education</th>\n",
       "      <th>education_num</th>\n",
       "      <th>marital_status</th>\n",
       "      <th>occupation</th>\n",
       "      <th>relationship</th>\n",
       "      <th>race</th>\n",
       "      <th>sex</th>\n",
       "      <th>capital_gain</th>\n",
       "      <th>capital_loss</th>\n",
       "      <th>hours_per_week</th>\n",
       "      <th>native_country</th>\n",
       "      <th>output</th>\n",
       "    </tr>\n",
       "  </thead>\n",
       "  <tbody>\n",
       "    <tr>\n",
       "      <th>0</th>\n",
       "      <td>39</td>\n",
       "      <td>State-gov</td>\n",
       "      <td>77516.0</td>\n",
       "      <td>Bachelors</td>\n",
       "      <td>13.0</td>\n",
       "      <td>Never-married</td>\n",
       "      <td>Adm-clerical</td>\n",
       "      <td>Not-in-family</td>\n",
       "      <td>White</td>\n",
       "      <td>Male</td>\n",
       "      <td>2174.0</td>\n",
       "      <td>0.0</td>\n",
       "      <td>40.0</td>\n",
       "      <td>United-States</td>\n",
       "      <td>&lt;=50K</td>\n",
       "    </tr>\n",
       "    <tr>\n",
       "      <th>1</th>\n",
       "      <td>50</td>\n",
       "      <td>Self-emp-not-inc</td>\n",
       "      <td>83311.0</td>\n",
       "      <td>Bachelors</td>\n",
       "      <td>13.0</td>\n",
       "      <td>Married-civ-spouse</td>\n",
       "      <td>Exec-managerial</td>\n",
       "      <td>Husband</td>\n",
       "      <td>White</td>\n",
       "      <td>Male</td>\n",
       "      <td>0.0</td>\n",
       "      <td>0.0</td>\n",
       "      <td>13.0</td>\n",
       "      <td>United-States</td>\n",
       "      <td>&lt;=50K</td>\n",
       "    </tr>\n",
       "    <tr>\n",
       "      <th>2</th>\n",
       "      <td>38</td>\n",
       "      <td>Private</td>\n",
       "      <td>215646.0</td>\n",
       "      <td>HS-grad</td>\n",
       "      <td>9.0</td>\n",
       "      <td>Divorced</td>\n",
       "      <td>Handlers-cleaners</td>\n",
       "      <td>Not-in-family</td>\n",
       "      <td>White</td>\n",
       "      <td>Male</td>\n",
       "      <td>0.0</td>\n",
       "      <td>0.0</td>\n",
       "      <td>40.0</td>\n",
       "      <td>United-States</td>\n",
       "      <td>&lt;=50K</td>\n",
       "    </tr>\n",
       "    <tr>\n",
       "      <th>3</th>\n",
       "      <td>53</td>\n",
       "      <td>Private</td>\n",
       "      <td>234721.0</td>\n",
       "      <td>11th</td>\n",
       "      <td>7.0</td>\n",
       "      <td>Married-civ-spouse</td>\n",
       "      <td>Handlers-cleaners</td>\n",
       "      <td>Husband</td>\n",
       "      <td>Black</td>\n",
       "      <td>Male</td>\n",
       "      <td>0.0</td>\n",
       "      <td>0.0</td>\n",
       "      <td>40.0</td>\n",
       "      <td>United-States</td>\n",
       "      <td>&lt;=50K</td>\n",
       "    </tr>\n",
       "  </tbody>\n",
       "</table>\n",
       "</div>"
      ],
      "text/plain": [
       "   age          workclass    fnlwgt   education  education_num  \\\n",
       "0   39          State-gov   77516.0   Bachelors           13.0   \n",
       "1   50   Self-emp-not-inc   83311.0   Bachelors           13.0   \n",
       "2   38            Private  215646.0     HS-grad            9.0   \n",
       "3   53            Private  234721.0        11th            7.0   \n",
       "\n",
       "        marital_status          occupation    relationship    race    sex  \\\n",
       "0        Never-married        Adm-clerical   Not-in-family   White   Male   \n",
       "1   Married-civ-spouse     Exec-managerial         Husband   White   Male   \n",
       "2             Divorced   Handlers-cleaners   Not-in-family   White   Male   \n",
       "3   Married-civ-spouse   Handlers-cleaners         Husband   Black   Male   \n",
       "\n",
       "   capital_gain  capital_loss  hours_per_week  native_country  output  \n",
       "0        2174.0           0.0            40.0   United-States   <=50K  \n",
       "1           0.0           0.0            13.0   United-States   <=50K  \n",
       "2           0.0           0.0            40.0   United-States   <=50K  \n",
       "3           0.0           0.0            40.0   United-States   <=50K  "
      ]
     },
     "execution_count": 5,
     "metadata": {},
     "output_type": "execute_result"
    }
   ],
   "source": [
    "adult_train_df.limit(4).toPandas()"
   ]
  },
  {
   "cell_type": "markdown",
   "id": "434b14f1",
   "metadata": {},
   "source": [
    "## .columns\n",
    "To get dataframe columns's names in a list"
   ]
  },
  {
   "cell_type": "code",
   "execution_count": 6,
   "id": "44187f17",
   "metadata": {},
   "outputs": [
    {
     "data": {
      "text/plain": [
       "['age',\n",
       " 'workclass',\n",
       " 'fnlwgt',\n",
       " 'education',\n",
       " 'education_num',\n",
       " 'marital_status',\n",
       " 'occupation',\n",
       " 'relationship',\n",
       " 'race',\n",
       " 'sex',\n",
       " 'capital_gain',\n",
       " 'capital_loss',\n",
       " 'hours_per_week',\n",
       " 'native_country',\n",
       " 'output']"
      ]
     },
     "execution_count": 6,
     "metadata": {},
     "output_type": "execute_result"
    }
   ],
   "source": [
    "adult_train_df.columns"
   ]
  },
  {
   "cell_type": "markdown",
   "id": "02a34c45",
   "metadata": {},
   "source": [
    "## .printSchema()\n",
    "To look at dataframe's schema"
   ]
  },
  {
   "cell_type": "code",
   "execution_count": 7,
   "id": "4f9f6676",
   "metadata": {},
   "outputs": [
    {
     "name": "stdout",
     "output_type": "stream",
     "text": [
      "root\n",
      " |-- age: integer (nullable = true)\n",
      " |-- workclass: string (nullable = true)\n",
      " |-- fnlwgt: double (nullable = true)\n",
      " |-- education: string (nullable = true)\n",
      " |-- education_num: double (nullable = true)\n",
      " |-- marital_status: string (nullable = true)\n",
      " |-- occupation: string (nullable = true)\n",
      " |-- relationship: string (nullable = true)\n",
      " |-- race: string (nullable = true)\n",
      " |-- sex: string (nullable = true)\n",
      " |-- capital_gain: double (nullable = true)\n",
      " |-- capital_loss: double (nullable = true)\n",
      " |-- hours_per_week: double (nullable = true)\n",
      " |-- native_country: string (nullable = true)\n",
      " |-- output: string (nullable = true)\n",
      "\n"
     ]
    }
   ],
   "source": [
    "adult_train_df.printSchema()"
   ]
  },
  {
   "cell_type": "markdown",
   "id": "2ca30113",
   "metadata": {},
   "source": [
    "## Define dataframe's schema"
   ]
  },
  {
   "cell_type": "code",
   "execution_count": 8,
   "id": "3f09f1f5",
   "metadata": {},
   "outputs": [],
   "source": [
    "schema=\"age INT, workclass STRING, fnlwgt DOUBLE, education STRING, education_num DOUBLE, marital_status STRING, occupation STRING, relationship STRING, race STRING, sex STRING, capital_gain DOUBLE, capital_loss DOUBLE, hours_per_week DOUBLE, native_country STRING, output STRING\"\n",
    "#schema=\"polarity FLOAT, id LONG, date_time STRING, query STRING, user STRING, text STRING\""
   ]
  },
  {
   "cell_type": "code",
   "execution_count": 9,
   "id": "e38dbd9f",
   "metadata": {},
   "outputs": [],
   "source": [
    "adult_test_df = spark.read.csv(\n",
    "        path=\"/home/jovyan/work/archive/adult/adult.test\",\n",
    "        sep=\",\",\n",
    "        header=True,\n",
    "        quote='\"',\n",
    "        schema=schema)"
   ]
  },
  {
   "cell_type": "markdown",
   "id": "0542812c",
   "metadata": {},
   "source": [
    "## .select()\n",
    "We use the .select() function to select the column we want."
   ]
  },
  {
   "cell_type": "code",
   "execution_count": 10,
   "id": "72680fc5",
   "metadata": {},
   "outputs": [
    {
     "name": "stdout",
     "output_type": "stream",
     "text": [
      "+------------+\n",
      "|relationship|\n",
      "+------------+\n",
      "|   Own-child|\n",
      "|     Husband|\n",
      "|     Husband|\n",
      "|     Husband|\n",
      "|   Own-child|\n",
      "+------------+\n",
      "only showing top 5 rows\n",
      "\n"
     ]
    }
   ],
   "source": [
    "#from pyspark.sql.functions import col\n",
    "#df.select(col(\"gender\")).show()\n",
    "#df.select(df[\"relationship\"]).show()\n",
    "adult_test_df.select(adult_test_df.relationship).show(5)"
   ]
  },
  {
   "cell_type": "code",
   "execution_count": 58,
   "id": "c5640485",
   "metadata": {},
   "outputs": [
    {
     "name": "stdout",
     "output_type": "stream",
     "text": [
      "+--------+-----------+-------------+\n",
      "|  fnlwgt|  education|education_num|\n",
      "+--------+-----------+-------------+\n",
      "|226802.0|       11th|          7.0|\n",
      "| 89814.0|    HS-grad|          9.0|\n",
      "|336951.0| Assoc-acdm|         12.0|\n",
      "+--------+-----------+-------------+\n",
      "only showing top 3 rows\n",
      "\n"
     ]
    }
   ],
   "source": [
    "adult_test_df.select(adult_test_df.columns[2:5]).show(3)"
   ]
  },
  {
   "cell_type": "markdown",
   "id": "fb8bb90f",
   "metadata": {},
   "source": [
    "## .describe()"
   ]
  },
  {
   "cell_type": "code",
   "execution_count": 71,
   "id": "3bb8c46f",
   "metadata": {},
   "outputs": [
    {
     "data": {
      "text/html": [
       "<div>\n",
       "<style scoped>\n",
       "    .dataframe tbody tr th:only-of-type {\n",
       "        vertical-align: middle;\n",
       "    }\n",
       "\n",
       "    .dataframe tbody tr th {\n",
       "        vertical-align: top;\n",
       "    }\n",
       "\n",
       "    .dataframe thead th {\n",
       "        text-align: right;\n",
       "    }\n",
       "</style>\n",
       "<table border=\"1\" class=\"dataframe\">\n",
       "  <thead>\n",
       "    <tr style=\"text-align: right;\">\n",
       "      <th></th>\n",
       "      <th>summary</th>\n",
       "      <th>age</th>\n",
       "      <th>fnlwgt</th>\n",
       "      <th>education_num</th>\n",
       "      <th>capital_gain</th>\n",
       "      <th>capital_loss</th>\n",
       "      <th>hours_per_week</th>\n",
       "    </tr>\n",
       "  </thead>\n",
       "  <tbody>\n",
       "    <tr>\n",
       "      <th>0</th>\n",
       "      <td>count</td>\n",
       "      <td>16281</td>\n",
       "      <td>16281</td>\n",
       "      <td>16281</td>\n",
       "      <td>16281</td>\n",
       "      <td>16281</td>\n",
       "      <td>16281</td>\n",
       "    </tr>\n",
       "    <tr>\n",
       "      <th>1</th>\n",
       "      <td>mean</td>\n",
       "      <td>38.76745900128985</td>\n",
       "      <td>189435.6777839199</td>\n",
       "      <td>10.07290706959032</td>\n",
       "      <td>1081.9051041090843</td>\n",
       "      <td>87.89926908666544</td>\n",
       "      <td>40.392236349118605</td>\n",
       "    </tr>\n",
       "    <tr>\n",
       "      <th>2</th>\n",
       "      <td>stddev</td>\n",
       "      <td>13.849186814264337</td>\n",
       "      <td>105714.90767083282</td>\n",
       "      <td>2.567545258667684</td>\n",
       "      <td>7583.935967887075</td>\n",
       "      <td>403.10528562931256</td>\n",
       "      <td>12.479332247112266</td>\n",
       "    </tr>\n",
       "    <tr>\n",
       "      <th>3</th>\n",
       "      <td>min</td>\n",
       "      <td>17</td>\n",
       "      <td>13492.0</td>\n",
       "      <td>1.0</td>\n",
       "      <td>0.0</td>\n",
       "      <td>0.0</td>\n",
       "      <td>1.0</td>\n",
       "    </tr>\n",
       "    <tr>\n",
       "      <th>4</th>\n",
       "      <td>max</td>\n",
       "      <td>90</td>\n",
       "      <td>1490400.0</td>\n",
       "      <td>16.0</td>\n",
       "      <td>99999.0</td>\n",
       "      <td>3770.0</td>\n",
       "      <td>99.0</td>\n",
       "    </tr>\n",
       "  </tbody>\n",
       "</table>\n",
       "</div>"
      ],
      "text/plain": [
       "  summary                 age              fnlwgt      education_num  \\\n",
       "0   count               16281               16281              16281   \n",
       "1    mean   38.76745900128985   189435.6777839199  10.07290706959032   \n",
       "2  stddev  13.849186814264337  105714.90767083282  2.567545258667684   \n",
       "3     min                  17             13492.0                1.0   \n",
       "4     max                  90           1490400.0               16.0   \n",
       "\n",
       "         capital_gain        capital_loss      hours_per_week  \n",
       "0               16281               16281               16281  \n",
       "1  1081.9051041090843   87.89926908666544  40.392236349118605  \n",
       "2   7583.935967887075  403.10528562931256  12.479332247112266  \n",
       "3                 0.0                 0.0                 1.0  \n",
       "4             99999.0              3770.0                99.0  "
      ]
     },
     "execution_count": 71,
     "metadata": {},
     "output_type": "execute_result"
    }
   ],
   "source": [
    "# Descriptive Statistic\n",
    "adult_test_df.describe([\"age\", \"fnlwgt\", \"education_num\", \"capital_gain\", \n",
    "                         \"capital_loss\", \"hours_per_week\"]).toPandas()"
   ]
  },
  {
   "cell_type": "markdown",
   "id": "55fcee84",
   "metadata": {},
   "source": [
    "## Column Operators"
   ]
  },
  {
   "cell_type": "code",
   "execution_count": 11,
   "id": "4fa2f900",
   "metadata": {},
   "outputs": [
    {
     "name": "stdout",
     "output_type": "stream",
     "text": [
      "+--------------------------------+\n",
      "|(hours_per_week - education_num)|\n",
      "+--------------------------------+\n",
      "|                            33.0|\n",
      "|                            41.0|\n",
      "|                            28.0|\n",
      "|                            30.0|\n",
      "|                            20.0|\n",
      "+--------------------------------+\n",
      "only showing top 5 rows\n",
      "\n"
     ]
    }
   ],
   "source": [
    "#df.select(df.col1 + df.col2).show()\n",
    "#df.select(df.col1 * df.col2).show()\n",
    "#df.select(df.col1 / df.col2).show()\n",
    "#df.select(df.col1 % df.col2).show()\n",
    "#df.select(df.col2 > df.col3).show()\n",
    "#df.select(df.col2 < df.col3).show()\n",
    "#df.select(df.col2 == df.col3).show()\n",
    "adult_test_df.select( adult_test_df.hours_per_week - adult_test_df.education_num).show(5) "
   ]
  },
  {
   "cell_type": "markdown",
   "id": "861e8eab",
   "metadata": {},
   "source": [
    "## .sort() & orderBy()\n",
    "Sort the DataFrame columns by Ascending or Descending order."
   ]
  },
  {
   "cell_type": "code",
   "execution_count": 12,
   "id": "a999eb3a",
   "metadata": {},
   "outputs": [
    {
     "name": "stdout",
     "output_type": "stream",
     "text": [
      "+---+\n",
      "|age|\n",
      "+---+\n",
      "| 90|\n",
      "| 90|\n",
      "| 90|\n",
      "| 90|\n",
      "| 90|\n",
      "+---+\n",
      "only showing top 5 rows\n",
      "\n"
     ]
    }
   ],
   "source": [
    "# adult_test_df.select(\"age\").orderBy(adult_test_df.age.desc()).show(5)\n",
    "adult_test_df.select(\"age\").sort(adult_test_df.age.desc()).show(5)"
   ]
  },
  {
   "cell_type": "markdown",
   "id": "f24f29c2",
   "metadata": {},
   "source": [
    "## .cast() & astype()\n",
    "To convert the data Type"
   ]
  },
  {
   "cell_type": "code",
   "execution_count": 13,
   "id": "9a7a379d",
   "metadata": {},
   "outputs": [
    {
     "name": "stdout",
     "output_type": "stream",
     "text": [
      "root\n",
      " |-- capital_gain: integer (nullable = true)\n",
      "\n"
     ]
    }
   ],
   "source": [
    "adult_test_df.select(adult_test_df.capital_gain.cast(\"int\")).printSchema()"
   ]
  },
  {
   "cell_type": "markdown",
   "id": "97f67f68",
   "metadata": {},
   "source": [
    "## .union()\n",
    "Dataframe union() – union() method of the DataFrame is used to combine two DataFrame’s of the same structure/schema. If schemas are not the same it returns an error."
   ]
  },
  {
   "cell_type": "code",
   "execution_count": 18,
   "id": "af174b36",
   "metadata": {},
   "outputs": [],
   "source": [
    "adult_whole_df = adult_train_df.union(adult_test_df)"
   ]
  },
  {
   "cell_type": "markdown",
   "id": "fe549cf8",
   "metadata": {},
   "source": [
    "## withColumn()\n",
    "withColumn() is a transformation function of DataFrame which is used to change the value, convert the datatype of an existing column, create a new column, and many more."
   ]
  },
  {
   "cell_type": "code",
   "execution_count": 235,
   "id": "efb5f6ff",
   "metadata": {},
   "outputs": [
    {
     "ename": "TypeError",
     "evalue": "'str' object is not callable",
     "output_type": "error",
     "traceback": [
      "\u001b[0;31m\u001b[0m",
      "\u001b[0;31mTypeError\u001b[0mTraceback (most recent call last)",
      "\u001b[0;32m<ipython-input-235-143f44a657ef>\u001b[0m in \u001b[0;36m<module>\u001b[0;34m\u001b[0m\n\u001b[0;32m----> 1\u001b[0;31m \u001b[0madult_whole_df\u001b[0m\u001b[0;34m.\u001b[0m\u001b[0mwithColumn\u001b[0m\u001b[0;34m(\u001b[0m\u001b[0;34m\"capital_loss_multiply\"\u001b[0m\u001b[0;34m,\u001b[0m\u001b[0mcol\u001b[0m\u001b[0;34m(\u001b[0m\u001b[0;34m\"capital_loss\"\u001b[0m\u001b[0;34m)\u001b[0m\u001b[0;34m*\u001b[0m\u001b[0;36m100\u001b[0m\u001b[0;34m)\u001b[0m\u001b[0;34m.\u001b[0m\u001b[0mselect\u001b[0m\u001b[0;34m(\u001b[0m\u001b[0;34m\"capital_loss_multiply\"\u001b[0m\u001b[0;34m)\u001b[0m\u001b[0;34m.\u001b[0m\u001b[0mshow\u001b[0m\u001b[0;34m(\u001b[0m\u001b[0;36m4\u001b[0m\u001b[0;34m)\u001b[0m\u001b[0;34m\u001b[0m\u001b[0;34m\u001b[0m\u001b[0m\n\u001b[0m",
      "\u001b[0;31mTypeError\u001b[0m: 'str' object is not callable"
     ]
    }
   ],
   "source": [
    "adult_whole_df.withColumn(\"capital_loss_multiply\",col(\"capital_loss\")*100).show(4)"
   ]
  },
  {
   "cell_type": "code",
   "execution_count": null,
   "id": "e2c7ff42",
   "metadata": {},
   "outputs": [],
   "source": []
  },
  {
   "cell_type": "markdown",
   "id": "d72a43f2",
   "metadata": {},
   "source": [
    "## .trim()\n",
    "PySpark you can remove whitespaces or trim by using pyspark.sql.functions.trim() SQL functions."
   ]
  },
  {
   "cell_type": "code",
   "execution_count": 19,
   "id": "bc2fcad2",
   "metadata": {},
   "outputs": [],
   "source": [
    "adult_whole_df = adult_whole_df \\\n",
    ".withColumn(\"workclass\", f.trim(f.col(\"workclass\"))) \\\n",
    ".withColumn(\"education\", f.trim(f.col(\"education\"))) \\\n",
    ".withColumn(\"marital_status\", f.trim(f.col(\"marital_status\"))) \\\n",
    ".withColumn(\"occupation\", f.trim(f.col(\"occupation\"))) \\\n",
    ".withColumn(\"relationship\", f.trim(f.col(\"relationship\"))) \\\n",
    ".withColumn(\"race\", f.trim(f.col(\"race\"))) \\\n",
    ".withColumn(\"sex\", f.trim(f.col(\"sex\"))) \\\n",
    ".withColumn(\"native_country\", f.trim(f.col(\"native_country\"))) \\\n",
    ".withColumn(\"output\", f.trim(f.col(\"output\")))"
   ]
  },
  {
   "cell_type": "markdown",
   "id": "e9f82a8c",
   "metadata": {},
   "source": [
    "## Where & Filter\n",
    "filter() function is used to filter the rows from DataFrame based on the given condition or SQL expression, you can also use where() clause instead of the filter() if you are coming from an SQL background, both these functions operate exactly the same."
   ]
  },
  {
   "cell_type": "code",
   "execution_count": 44,
   "id": "95138936",
   "metadata": {},
   "outputs": [
    {
     "name": "stdout",
     "output_type": "stream",
     "text": [
      "+------------------+\n",
      "|race              |\n",
      "+------------------+\n",
      "|Black             |\n",
      "|Black             |\n",
      "|Black             |\n",
      "|Black             |\n",
      "|Asian-Pac-Islander|\n",
      "+------------------+\n",
      "only showing top 5 rows\n",
      "\n"
     ]
    }
   ],
   "source": [
    "adult_whole_df.filter(adult_whole_df.race != \"White\") \\\n",
    ".select(\"race\") \\\n",
    ".show(5,truncate=False) "
   ]
  },
  {
   "cell_type": "code",
   "execution_count": 52,
   "id": "8d52edc1",
   "metadata": {},
   "outputs": [
    {
     "data": {
      "text/html": [
       "<div>\n",
       "<style scoped>\n",
       "    .dataframe tbody tr th:only-of-type {\n",
       "        vertical-align: middle;\n",
       "    }\n",
       "\n",
       "    .dataframe tbody tr th {\n",
       "        vertical-align: top;\n",
       "    }\n",
       "\n",
       "    .dataframe thead th {\n",
       "        text-align: right;\n",
       "    }\n",
       "</style>\n",
       "<table border=\"1\" class=\"dataframe\">\n",
       "  <thead>\n",
       "    <tr style=\"text-align: right;\">\n",
       "      <th></th>\n",
       "      <th>age</th>\n",
       "      <th>workclass</th>\n",
       "      <th>fnlwgt</th>\n",
       "      <th>education_num</th>\n",
       "      <th>marital_status</th>\n",
       "      <th>occupation</th>\n",
       "      <th>relationship</th>\n",
       "      <th>race</th>\n",
       "      <th>sex</th>\n",
       "      <th>capital_gain</th>\n",
       "      <th>capital_loss</th>\n",
       "      <th>hours_per_week</th>\n",
       "      <th>native_country</th>\n",
       "      <th>output</th>\n",
       "      <th>education_merged</th>\n",
       "      <th>marital_status_merged</th>\n",
       "    </tr>\n",
       "  </thead>\n",
       "  <tbody>\n",
       "    <tr>\n",
       "      <th>0</th>\n",
       "      <td>50</td>\n",
       "      <td>Self-emp-not-inc</td>\n",
       "      <td>83311.0</td>\n",
       "      <td>13.0</td>\n",
       "      <td>Married-civ-spouse</td>\n",
       "      <td>Exec-managerial</td>\n",
       "      <td>Husband</td>\n",
       "      <td>White</td>\n",
       "      <td>Male</td>\n",
       "      <td>0.0</td>\n",
       "      <td>0.0</td>\n",
       "      <td>13.0</td>\n",
       "      <td>United-States</td>\n",
       "      <td>&lt;=50K</td>\n",
       "      <td>Under-Education</td>\n",
       "      <td>Married</td>\n",
       "    </tr>\n",
       "    <tr>\n",
       "      <th>1</th>\n",
       "      <td>53</td>\n",
       "      <td>Private</td>\n",
       "      <td>234721.0</td>\n",
       "      <td>7.0</td>\n",
       "      <td>Married-civ-spouse</td>\n",
       "      <td>Handlers-cleaners</td>\n",
       "      <td>Husband</td>\n",
       "      <td>Black</td>\n",
       "      <td>Male</td>\n",
       "      <td>0.0</td>\n",
       "      <td>0.0</td>\n",
       "      <td>40.0</td>\n",
       "      <td>United-States</td>\n",
       "      <td>&lt;=50K</td>\n",
       "      <td>High-School</td>\n",
       "      <td>Married</td>\n",
       "    </tr>\n",
       "    <tr>\n",
       "      <th>2</th>\n",
       "      <td>49</td>\n",
       "      <td>Private</td>\n",
       "      <td>160187.0</td>\n",
       "      <td>5.0</td>\n",
       "      <td>Married-spouse-absent</td>\n",
       "      <td>Other-service</td>\n",
       "      <td>Not-in-family</td>\n",
       "      <td>Black</td>\n",
       "      <td>Female</td>\n",
       "      <td>0.0</td>\n",
       "      <td>0.0</td>\n",
       "      <td>16.0</td>\n",
       "      <td>Jamaica</td>\n",
       "      <td>&lt;=50K</td>\n",
       "      <td>High-School</td>\n",
       "      <td>Married</td>\n",
       "    </tr>\n",
       "    <tr>\n",
       "      <th>3</th>\n",
       "      <td>52</td>\n",
       "      <td>Self-emp-not-inc</td>\n",
       "      <td>209642.0</td>\n",
       "      <td>9.0</td>\n",
       "      <td>Married-civ-spouse</td>\n",
       "      <td>Exec-managerial</td>\n",
       "      <td>Husband</td>\n",
       "      <td>White</td>\n",
       "      <td>Male</td>\n",
       "      <td>0.0</td>\n",
       "      <td>0.0</td>\n",
       "      <td>45.0</td>\n",
       "      <td>United-States</td>\n",
       "      <td>&gt;50K</td>\n",
       "      <td>HS-grad</td>\n",
       "      <td>Married</td>\n",
       "    </tr>\n",
       "    <tr>\n",
       "      <th>4</th>\n",
       "      <td>42</td>\n",
       "      <td>Private</td>\n",
       "      <td>159449.0</td>\n",
       "      <td>13.0</td>\n",
       "      <td>Married-civ-spouse</td>\n",
       "      <td>Exec-managerial</td>\n",
       "      <td>Husband</td>\n",
       "      <td>White</td>\n",
       "      <td>Male</td>\n",
       "      <td>5178.0</td>\n",
       "      <td>0.0</td>\n",
       "      <td>40.0</td>\n",
       "      <td>United-States</td>\n",
       "      <td>&gt;50K</td>\n",
       "      <td>Under-Education</td>\n",
       "      <td>Married</td>\n",
       "    </tr>\n",
       "  </tbody>\n",
       "</table>\n",
       "</div>"
      ],
      "text/plain": [
       "   age         workclass    fnlwgt  education_num         marital_status  \\\n",
       "0   50  Self-emp-not-inc   83311.0           13.0     Married-civ-spouse   \n",
       "1   53           Private  234721.0            7.0     Married-civ-spouse   \n",
       "2   49           Private  160187.0            5.0  Married-spouse-absent   \n",
       "3   52  Self-emp-not-inc  209642.0            9.0     Married-civ-spouse   \n",
       "4   42           Private  159449.0           13.0     Married-civ-spouse   \n",
       "\n",
       "          occupation   relationship   race     sex  capital_gain  \\\n",
       "0    Exec-managerial        Husband  White    Male           0.0   \n",
       "1  Handlers-cleaners        Husband  Black    Male           0.0   \n",
       "2      Other-service  Not-in-family  Black  Female           0.0   \n",
       "3    Exec-managerial        Husband  White    Male           0.0   \n",
       "4    Exec-managerial        Husband  White    Male        5178.0   \n",
       "\n",
       "   capital_loss  hours_per_week native_country output education_merged  \\\n",
       "0           0.0            13.0  United-States  <=50K  Under-Education   \n",
       "1           0.0            40.0  United-States  <=50K      High-School   \n",
       "2           0.0            16.0        Jamaica  <=50K      High-School   \n",
       "3           0.0            45.0  United-States   >50K          HS-grad   \n",
       "4           0.0            40.0  United-States   >50K  Under-Education   \n",
       "\n",
       "  marital_status_merged  \n",
       "0               Married  \n",
       "1               Married  \n",
       "2               Married  \n",
       "3               Married  \n",
       "4               Married  "
      ]
     },
     "execution_count": 52,
     "metadata": {},
     "output_type": "execute_result"
    }
   ],
   "source": [
    "adult_whole_df.filter(~((adult_whole_df.marital_status  == \"Never-married\") \n",
    "                      & (adult_whole_df.sex  == \"Male\") \n",
    "                      & (adult_whole_df.relationship == \"Not-in-family\") \n",
    "                      & (adult_whole_df.hours_per_week >= 50.0) \n",
    "                      | (adult_whole_df.age <= 40))) \\\n",
    ".limit(5).toPandas() "
   ]
  },
  {
   "cell_type": "markdown",
   "id": "16ad4a6d",
   "metadata": {},
   "source": [
    "## .like()"
   ]
  },
  {
   "cell_type": "code",
   "execution_count": 55,
   "id": "c45a353c",
   "metadata": {},
   "outputs": [
    {
     "name": "stdout",
     "output_type": "stream",
     "text": [
      "+---------+\n",
      "|workclass|\n",
      "+---------+\n",
      "|  Private|\n",
      "|  Private|\n",
      "|  Private|\n",
      "|  Private|\n",
      "|  Private|\n",
      "+---------+\n",
      "only showing top 5 rows\n",
      "\n"
     ]
    }
   ],
   "source": [
    "adult_whole_df.select(adult_whole_df.workclass) \\\n",
    "  .filter(adult_whole_df.workclass.like(\"%va%\")).show(5)"
   ]
  },
  {
   "cell_type": "markdown",
   "id": "28829a4a",
   "metadata": {},
   "source": [
    "## .isNull & .isNotNull() \n",
    "Checks if the DataFrame column has NULL or non NULL values."
   ]
  },
  {
   "cell_type": "code",
   "execution_count": 56,
   "id": "1a74ae64",
   "metadata": {},
   "outputs": [
    {
     "data": {
      "text/html": [
       "<div>\n",
       "<style scoped>\n",
       "    .dataframe tbody tr th:only-of-type {\n",
       "        vertical-align: middle;\n",
       "    }\n",
       "\n",
       "    .dataframe tbody tr th {\n",
       "        vertical-align: top;\n",
       "    }\n",
       "\n",
       "    .dataframe thead th {\n",
       "        text-align: right;\n",
       "    }\n",
       "</style>\n",
       "<table border=\"1\" class=\"dataframe\">\n",
       "  <thead>\n",
       "    <tr style=\"text-align: right;\">\n",
       "      <th></th>\n",
       "      <th>age</th>\n",
       "      <th>workclass</th>\n",
       "      <th>fnlwgt</th>\n",
       "      <th>education_num</th>\n",
       "      <th>marital_status</th>\n",
       "      <th>occupation</th>\n",
       "      <th>relationship</th>\n",
       "      <th>race</th>\n",
       "      <th>sex</th>\n",
       "      <th>capital_gain</th>\n",
       "      <th>capital_loss</th>\n",
       "      <th>hours_per_week</th>\n",
       "      <th>native_country</th>\n",
       "      <th>output</th>\n",
       "      <th>education_merged</th>\n",
       "      <th>marital_status_merged</th>\n",
       "    </tr>\n",
       "  </thead>\n",
       "  <tbody>\n",
       "    <tr>\n",
       "      <th>0</th>\n",
       "      <td>39</td>\n",
       "      <td>State-gov</td>\n",
       "      <td>77516.0</td>\n",
       "      <td>13.0</td>\n",
       "      <td>Never-married</td>\n",
       "      <td>Adm-clerical</td>\n",
       "      <td>Not-in-family</td>\n",
       "      <td>White</td>\n",
       "      <td>Male</td>\n",
       "      <td>2174.0</td>\n",
       "      <td>0.0</td>\n",
       "      <td>40.0</td>\n",
       "      <td>United-States</td>\n",
       "      <td>&lt;=50K</td>\n",
       "      <td>Under-Education</td>\n",
       "      <td>Single</td>\n",
       "    </tr>\n",
       "    <tr>\n",
       "      <th>1</th>\n",
       "      <td>50</td>\n",
       "      <td>Self-emp-not-inc</td>\n",
       "      <td>83311.0</td>\n",
       "      <td>13.0</td>\n",
       "      <td>Married-civ-spouse</td>\n",
       "      <td>Exec-managerial</td>\n",
       "      <td>Husband</td>\n",
       "      <td>White</td>\n",
       "      <td>Male</td>\n",
       "      <td>0.0</td>\n",
       "      <td>0.0</td>\n",
       "      <td>13.0</td>\n",
       "      <td>United-States</td>\n",
       "      <td>&lt;=50K</td>\n",
       "      <td>Under-Education</td>\n",
       "      <td>Married</td>\n",
       "    </tr>\n",
       "    <tr>\n",
       "      <th>2</th>\n",
       "      <td>38</td>\n",
       "      <td>Private</td>\n",
       "      <td>215646.0</td>\n",
       "      <td>9.0</td>\n",
       "      <td>Divorced</td>\n",
       "      <td>Handlers-cleaners</td>\n",
       "      <td>Not-in-family</td>\n",
       "      <td>White</td>\n",
       "      <td>Male</td>\n",
       "      <td>0.0</td>\n",
       "      <td>0.0</td>\n",
       "      <td>40.0</td>\n",
       "      <td>United-States</td>\n",
       "      <td>&lt;=50K</td>\n",
       "      <td>HS-grad</td>\n",
       "      <td>Single</td>\n",
       "    </tr>\n",
       "    <tr>\n",
       "      <th>3</th>\n",
       "      <td>53</td>\n",
       "      <td>Private</td>\n",
       "      <td>234721.0</td>\n",
       "      <td>7.0</td>\n",
       "      <td>Married-civ-spouse</td>\n",
       "      <td>Handlers-cleaners</td>\n",
       "      <td>Husband</td>\n",
       "      <td>Black</td>\n",
       "      <td>Male</td>\n",
       "      <td>0.0</td>\n",
       "      <td>0.0</td>\n",
       "      <td>40.0</td>\n",
       "      <td>United-States</td>\n",
       "      <td>&lt;=50K</td>\n",
       "      <td>High-School</td>\n",
       "      <td>Married</td>\n",
       "    </tr>\n",
       "    <tr>\n",
       "      <th>4</th>\n",
       "      <td>28</td>\n",
       "      <td>Private</td>\n",
       "      <td>338409.0</td>\n",
       "      <td>13.0</td>\n",
       "      <td>Married-civ-spouse</td>\n",
       "      <td>Prof-specialty</td>\n",
       "      <td>Wife</td>\n",
       "      <td>Black</td>\n",
       "      <td>Female</td>\n",
       "      <td>0.0</td>\n",
       "      <td>0.0</td>\n",
       "      <td>40.0</td>\n",
       "      <td>Cuba</td>\n",
       "      <td>&lt;=50K</td>\n",
       "      <td>Under-Education</td>\n",
       "      <td>Married</td>\n",
       "    </tr>\n",
       "  </tbody>\n",
       "</table>\n",
       "</div>"
      ],
      "text/plain": [
       "   age         workclass    fnlwgt  education_num      marital_status  \\\n",
       "0   39         State-gov   77516.0           13.0       Never-married   \n",
       "1   50  Self-emp-not-inc   83311.0           13.0  Married-civ-spouse   \n",
       "2   38           Private  215646.0            9.0            Divorced   \n",
       "3   53           Private  234721.0            7.0  Married-civ-spouse   \n",
       "4   28           Private  338409.0           13.0  Married-civ-spouse   \n",
       "\n",
       "          occupation   relationship   race     sex  capital_gain  \\\n",
       "0       Adm-clerical  Not-in-family  White    Male        2174.0   \n",
       "1    Exec-managerial        Husband  White    Male           0.0   \n",
       "2  Handlers-cleaners  Not-in-family  White    Male           0.0   \n",
       "3  Handlers-cleaners        Husband  Black    Male           0.0   \n",
       "4     Prof-specialty           Wife  Black  Female           0.0   \n",
       "\n",
       "   capital_loss  hours_per_week native_country output education_merged  \\\n",
       "0           0.0            40.0  United-States  <=50K  Under-Education   \n",
       "1           0.0            13.0  United-States  <=50K  Under-Education   \n",
       "2           0.0            40.0  United-States  <=50K          HS-grad   \n",
       "3           0.0            40.0  United-States  <=50K      High-School   \n",
       "4           0.0            40.0           Cuba  <=50K  Under-Education   \n",
       "\n",
       "  marital_status_merged  \n",
       "0                Single  \n",
       "1               Married  \n",
       "2                Single  \n",
       "3               Married  \n",
       "4               Married  "
      ]
     },
     "execution_count": 56,
     "metadata": {},
     "output_type": "execute_result"
    }
   ],
   "source": [
    "#adult_test_df.filter(adult_test_df.occupation.isNull()).show()\n",
    "adult_whole_df.filter(adult_whole_df.occupation.isNotNull()).limit(5).toPandas()"
   ]
  },
  {
   "cell_type": "markdown",
   "id": "1ec197b2",
   "metadata": {},
   "source": [
    "## .contains()\n",
    "Checks if a DataFrame column value contains a a value specified in this function."
   ]
  },
  {
   "cell_type": "code",
   "execution_count": 54,
   "id": "66391103",
   "metadata": {},
   "outputs": [
    {
     "name": "stdout",
     "output_type": "stream",
     "text": [
      "+--------------+\n",
      "|marital_status|\n",
      "+--------------+\n",
      "|      Divorced|\n",
      "|      Divorced|\n",
      "|      Divorced|\n",
      "|      Divorced|\n",
      "|      Divorced|\n",
      "+--------------+\n",
      "only showing top 5 rows\n",
      "\n"
     ]
    }
   ],
   "source": [
    "adult_whole_df.select(\"marital_status\").filter(adult_whole_df.marital_status.contains(\"Divorced\")).show(5)"
   ]
  },
  {
   "cell_type": "markdown",
   "id": "4e06a10a",
   "metadata": {},
   "source": [
    "## .between()\n",
    "Returns a Boolean expression when a column values in between lower and upper bound."
   ]
  },
  {
   "cell_type": "code",
   "execution_count": 14,
   "id": "18c48e7a",
   "metadata": {},
   "outputs": [
    {
     "name": "stdout",
     "output_type": "stream",
     "text": [
      "+---+\n",
      "|age|\n",
      "+---+\n",
      "| 63|\n",
      "| 65|\n",
      "| 65|\n",
      "| 65|\n",
      "| 63|\n",
      "+---+\n",
      "only showing top 5 rows\n",
      "\n"
     ]
    }
   ],
   "source": [
    "adult_whole_df.select(\"age\").filter(adult_test_df.age.between(60,65)).show(5)"
   ]
  },
  {
   "cell_type": "markdown",
   "id": "7c33520f",
   "metadata": {},
   "source": [
    "## .isin()\n",
    "Check if value presents in a List."
   ]
  },
  {
   "cell_type": "code",
   "execution_count": 20,
   "id": "56c493c7",
   "metadata": {},
   "outputs": [
    {
     "name": "stdout",
     "output_type": "stream",
     "text": [
      "+------------------+\n",
      "|              race|\n",
      "+------------------+\n",
      "|Asian-Pac-Islander|\n",
      "|Asian-Pac-Islander|\n",
      "|Amer-Indian-Eskimo|\n",
      "|Asian-Pac-Islander|\n",
      "|             Other|\n",
      "+------------------+\n",
      "only showing top 5 rows\n",
      "\n"
     ]
    }
   ],
   "source": [
    "other=[\"Other\",\"Amer-Indian-Eskimo\", \"Asian-Pac-Islander\"]\n",
    "adult_whole_df.select(adult_whole_df.race) \\\n",
    "  .filter(adult_whole_df.race.isin(other)) \\\n",
    "  .show(5)"
   ]
  },
  {
   "cell_type": "markdown",
   "id": "c6020298",
   "metadata": {},
   "source": [
    "## . groupBy()\n",
    "Similar to SQL GROUP BY clause, \n",
    "groupBy() function is used to collect the identical data into groups on DataFrame \n",
    "and perform aggregate functions on the grouped data."
   ]
  },
  {
   "cell_type": "code",
   "execution_count": 21,
   "id": "ed88e65e",
   "metadata": {},
   "outputs": [
    {
     "data": {
      "text/html": [
       "<div>\n",
       "<style scoped>\n",
       "    .dataframe tbody tr th:only-of-type {\n",
       "        vertical-align: middle;\n",
       "    }\n",
       "\n",
       "    .dataframe tbody tr th {\n",
       "        vertical-align: top;\n",
       "    }\n",
       "\n",
       "    .dataframe thead th {\n",
       "        text-align: right;\n",
       "    }\n",
       "</style>\n",
       "<table border=\"1\" class=\"dataframe\">\n",
       "  <thead>\n",
       "    <tr style=\"text-align: right;\">\n",
       "      <th></th>\n",
       "      <th>marital_status</th>\n",
       "      <th>count(1)</th>\n",
       "    </tr>\n",
       "  </thead>\n",
       "  <tbody>\n",
       "    <tr>\n",
       "      <th>0</th>\n",
       "      <td>Separated</td>\n",
       "      <td>1530</td>\n",
       "    </tr>\n",
       "    <tr>\n",
       "      <th>1</th>\n",
       "      <td>Never-married</td>\n",
       "      <td>16117</td>\n",
       "    </tr>\n",
       "    <tr>\n",
       "      <th>2</th>\n",
       "      <td>Married-spouse-absent</td>\n",
       "      <td>628</td>\n",
       "    </tr>\n",
       "    <tr>\n",
       "      <th>3</th>\n",
       "      <td>Divorced</td>\n",
       "      <td>6633</td>\n",
       "    </tr>\n",
       "    <tr>\n",
       "      <th>4</th>\n",
       "      <td>Widowed</td>\n",
       "      <td>1518</td>\n",
       "    </tr>\n",
       "    <tr>\n",
       "      <th>5</th>\n",
       "      <td>Married-AF-spouse</td>\n",
       "      <td>37</td>\n",
       "    </tr>\n",
       "    <tr>\n",
       "      <th>6</th>\n",
       "      <td>Married-civ-spouse</td>\n",
       "      <td>22379</td>\n",
       "    </tr>\n",
       "  </tbody>\n",
       "</table>\n",
       "</div>"
      ],
      "text/plain": [
       "          marital_status  count(1)\n",
       "0              Separated      1530\n",
       "1          Never-married     16117\n",
       "2  Married-spouse-absent       628\n",
       "3               Divorced      6633\n",
       "4                Widowed      1518\n",
       "5      Married-AF-spouse        37\n",
       "6     Married-civ-spouse     22379"
      ]
     },
     "execution_count": 21,
     "metadata": {},
     "output_type": "execute_result"
    }
   ],
   "source": [
    "adult_whole_df.groupBy(f.col(\"marital_status\")).agg({\"*\":\"count\"}) \\\n",
    ".toPandas()"
   ]
  },
  {
   "cell_type": "code",
   "execution_count": 192,
   "id": "e7defa41",
   "metadata": {},
   "outputs": [
    {
     "data": {
      "text/html": [
       "<div>\n",
       "<style scoped>\n",
       "    .dataframe tbody tr th:only-of-type {\n",
       "        vertical-align: middle;\n",
       "    }\n",
       "\n",
       "    .dataframe tbody tr th {\n",
       "        vertical-align: top;\n",
       "    }\n",
       "\n",
       "    .dataframe thead th {\n",
       "        text-align: right;\n",
       "    }\n",
       "</style>\n",
       "<table border=\"1\" class=\"dataframe\">\n",
       "  <thead>\n",
       "    <tr style=\"text-align: right;\">\n",
       "      <th></th>\n",
       "      <th>workclass</th>\n",
       "      <th>count(1)</th>\n",
       "    </tr>\n",
       "  </thead>\n",
       "  <tbody>\n",
       "    <tr>\n",
       "      <th>0</th>\n",
       "      <td>Self-emp-not-inc</td>\n",
       "      <td>3862</td>\n",
       "    </tr>\n",
       "    <tr>\n",
       "      <th>1</th>\n",
       "      <td>Local-gov</td>\n",
       "      <td>3136</td>\n",
       "    </tr>\n",
       "    <tr>\n",
       "      <th>2</th>\n",
       "      <td>State-gov</td>\n",
       "      <td>1981</td>\n",
       "    </tr>\n",
       "    <tr>\n",
       "      <th>3</th>\n",
       "      <td>Private</td>\n",
       "      <td>33906</td>\n",
       "    </tr>\n",
       "    <tr>\n",
       "      <th>4</th>\n",
       "      <td>Without-pay</td>\n",
       "      <td>21</td>\n",
       "    </tr>\n",
       "    <tr>\n",
       "      <th>5</th>\n",
       "      <td>Federal-gov</td>\n",
       "      <td>1432</td>\n",
       "    </tr>\n",
       "    <tr>\n",
       "      <th>6</th>\n",
       "      <td>Never-worked</td>\n",
       "      <td>10</td>\n",
       "    </tr>\n",
       "    <tr>\n",
       "      <th>7</th>\n",
       "      <td>?</td>\n",
       "      <td>2799</td>\n",
       "    </tr>\n",
       "    <tr>\n",
       "      <th>8</th>\n",
       "      <td>Self-emp-inc</td>\n",
       "      <td>1695</td>\n",
       "    </tr>\n",
       "  </tbody>\n",
       "</table>\n",
       "</div>"
      ],
      "text/plain": [
       "          workclass  count(1)\n",
       "0  Self-emp-not-inc      3862\n",
       "1         Local-gov      3136\n",
       "2         State-gov      1981\n",
       "3           Private     33906\n",
       "4       Without-pay        21\n",
       "5       Federal-gov      1432\n",
       "6      Never-worked        10\n",
       "7                 ?      2799\n",
       "8      Self-emp-inc      1695"
      ]
     },
     "execution_count": 192,
     "metadata": {},
     "output_type": "execute_result"
    }
   ],
   "source": [
    "adult_whole_df.groupBy(f.col(\"workclass\")).agg({\"*\":\"count\"}) \\\n",
    ".toPandas()"
   ]
  },
  {
   "cell_type": "code",
   "execution_count": null,
   "id": "f76a5d45",
   "metadata": {},
   "outputs": [],
   "source": [
    "train_df[[\"Sex\", \"Survived\"]].groupby([\"Sex\"], as_index=False).mean().sort_values(by = \"Survived\", ascending=False)\n",
    "train_df[[\"SibSp\", \"Survived\"]].groupby([\"SibSp\"], as_index=False).mean().sort_values(by = \"Survived\", ascending=False)"
   ]
  },
  {
   "cell_type": "code",
   "execution_count": null,
   "id": "b94a2eb1",
   "metadata": {},
   "outputs": [],
   "source": [
    "adult_whole_df.filter(adult_whole_df.race != \"White\").count()"
   ]
  },
  {
   "cell_type": "code",
   "execution_count": 202,
   "id": "f8f2503b",
   "metadata": {},
   "outputs": [],
   "source": [
    "def get_columns_which_have_sought_value(dataframe:dataframe.DataFrame, \n",
    "                                        sought_value:object): \n",
    "    list_of_cols = []\n",
    "    for col in dataframe.columns:\n",
    "        if dataframe.filter(f.col(col).contains(sought_value)).count() > 0:\n",
    "            list_of_cols.append(col)\n",
    "    return list_of_cols"
   ]
  },
  {
   "cell_type": "code",
   "execution_count": 205,
   "id": "c2866687",
   "metadata": {},
   "outputs": [
    {
     "data": {
      "text/plain": [
       "['workclass', 'occupation', 'native_country']"
      ]
     },
     "execution_count": 205,
     "metadata": {},
     "output_type": "execute_result"
    }
   ],
   "source": [
    "cols = show_columns_which_have_question_values(adult_whole_df)\n",
    "cols"
   ]
  },
  {
   "cell_type": "code",
   "execution_count": 256,
   "id": "b88038a5",
   "metadata": {},
   "outputs": [
    {
     "ename": "AttributeError",
     "evalue": "'DataFrame' object has no attribute 'DataFrame'",
     "output_type": "error",
     "traceback": [
      "\u001b[0;31m\u001b[0m",
      "\u001b[0;31mAttributeError\u001b[0mTraceback (most recent call last)",
      "\u001b[0;32m<ipython-input-256-4a013f8c7cc6>\u001b[0m in \u001b[0;36m<module>\u001b[0;34m\u001b[0m\n\u001b[0;32m----> 1\u001b[0;31m def change_values_in_columns(dataframe:dataframe.DataFrame, \n\u001b[0m\u001b[1;32m      2\u001b[0m                              \u001b[0mcolumns\u001b[0m\u001b[0;34m:\u001b[0m\u001b[0mlist\u001b[0m\u001b[0;34m[\u001b[0m\u001b[0mstr\u001b[0m\u001b[0;34m]\u001b[0m\u001b[0;34m,\u001b[0m\u001b[0;34m\u001b[0m\u001b[0;34m\u001b[0m\u001b[0m\n\u001b[1;32m      3\u001b[0m                              \u001b[0mvalue_to_change\u001b[0m\u001b[0;34m:\u001b[0m\u001b[0mobject\u001b[0m\u001b[0;34m,\u001b[0m\u001b[0;34m\u001b[0m\u001b[0;34m\u001b[0m\u001b[0m\n\u001b[1;32m      4\u001b[0m                              value_to_assign=None):\n\u001b[1;32m      5\u001b[0m     \u001b[0mnew_dataframe\u001b[0m \u001b[0;34m=\u001b[0m \u001b[0mdataframe\u001b[0m\u001b[0;34m\u001b[0m\u001b[0;34m\u001b[0m\u001b[0m\n",
      "\u001b[0;32m/usr/local/spark/python/pyspark/sql/dataframe.py\u001b[0m in \u001b[0;36m__getattr__\u001b[0;34m(self, name)\u001b[0m\n\u001b[1;32m   1641\u001b[0m         \"\"\"\n\u001b[1;32m   1642\u001b[0m         \u001b[0;32mif\u001b[0m \u001b[0mname\u001b[0m \u001b[0;32mnot\u001b[0m \u001b[0;32min\u001b[0m \u001b[0mself\u001b[0m\u001b[0;34m.\u001b[0m\u001b[0mcolumns\u001b[0m\u001b[0;34m:\u001b[0m\u001b[0;34m\u001b[0m\u001b[0;34m\u001b[0m\u001b[0m\n\u001b[0;32m-> 1643\u001b[0;31m             raise AttributeError(\n\u001b[0m\u001b[1;32m   1644\u001b[0m                 \"'%s' object has no attribute '%s'\" % (self.__class__.__name__, name))\n\u001b[1;32m   1645\u001b[0m         \u001b[0mjc\u001b[0m \u001b[0;34m=\u001b[0m \u001b[0mself\u001b[0m\u001b[0;34m.\u001b[0m\u001b[0m_jdf\u001b[0m\u001b[0;34m.\u001b[0m\u001b[0mapply\u001b[0m\u001b[0;34m(\u001b[0m\u001b[0mname\u001b[0m\u001b[0;34m)\u001b[0m\u001b[0;34m\u001b[0m\u001b[0;34m\u001b[0m\u001b[0m\n",
      "\u001b[0;31mAttributeError\u001b[0m: 'DataFrame' object has no attribute 'DataFrame'"
     ]
    }
   ],
   "source": [
    "def change_values_in_columns(dataframe:dataframe.DataFrame, \n",
    "                             columns:list[str], \n",
    "                             value_to_change:object, \n",
    "                             value_to_assign=None):\n",
    "    new_dataframe = dataframe\n",
    "    for col in columns:\n",
    "        new_dataframe = new_dataframe \\\n",
    "        .withColumn(col, f.regexp_replace(f.col(col), value_to_change, value_to_assign))\n",
    "    return new_dataframe"
   ]
  },
  {
   "cell_type": "code",
   "execution_count": 243,
   "id": "0e2529ca",
   "metadata": {},
   "outputs": [
    {
     "name": "stdout",
     "output_type": "stream",
     "text": [
      "workclass\n",
      "occupation\n",
      "native_country\n"
     ]
    }
   ],
   "source": [
    "for col in cols:\n",
    "    print(col)"
   ]
  },
  {
   "cell_type": "code",
   "execution_count": 254,
   "id": "9f5b5585",
   "metadata": {},
   "outputs": [
    {
     "ename": "NameError",
     "evalue": "name 'change_values_in_columns' is not defined",
     "output_type": "error",
     "traceback": [
      "\u001b[0;31m\u001b[0m",
      "\u001b[0;31mNameError\u001b[0mTraceback (most recent call last)",
      "\u001b[0;32m<ipython-input-254-d4fded895799>\u001b[0m in \u001b[0;36m<module>\u001b[0;34m\u001b[0m\n\u001b[0;32m----> 1\u001b[0;31m \u001b[0mdf\u001b[0m \u001b[0;34m=\u001b[0m \u001b[0mchange_values_in_columns\u001b[0m\u001b[0;34m(\u001b[0m\u001b[0madult_whole_df\u001b[0m\u001b[0;34m,\u001b[0m \u001b[0mcols\u001b[0m\u001b[0;34m,\u001b[0m \u001b[0;34m'?'\u001b[0m\u001b[0;34m)\u001b[0m\u001b[0;34m\u001b[0m\u001b[0;34m\u001b[0m\u001b[0m\n\u001b[0m",
      "\u001b[0;31mNameError\u001b[0m: name 'change_values_in_columns' is not defined"
     ]
    }
   ],
   "source": [
    "df = change_values_in_columns(adult_whole_df, cols, '?')"
   ]
  },
  {
   "cell_type": "code",
   "execution_count": null,
   "id": "ccfb3a90",
   "metadata": {},
   "outputs": [],
   "source": []
  },
  {
   "cell_type": "code",
   "execution_count": null,
   "id": "f9da1761",
   "metadata": {},
   "outputs": [],
   "source": []
  },
  {
   "cell_type": "code",
   "execution_count": 212,
   "id": "f9eaf2ef",
   "metadata": {},
   "outputs": [],
   "source": [
    "#adult_whole_df11 = adult_whole_df.withColumn(col, regexp_replace(f.col(col), '?', \"None\"))"
   ]
  },
  {
   "cell_type": "code",
   "execution_count": 241,
   "id": "b71d1e6f",
   "metadata": {},
   "outputs": [],
   "source": [
    "adult_whole_df13 = adult_whole_df \\\n",
    ".withColumn('workclass', f.regexp_replace(f.col('workclass'), '?', None))"
   ]
  },
  {
   "cell_type": "code",
   "execution_count": null,
   "id": "2ae78d2e",
   "metadata": {},
   "outputs": [],
   "source": []
  },
  {
   "cell_type": "code",
   "execution_count": 249,
   "id": "56cc0b20",
   "metadata": {},
   "outputs": [
    {
     "data": {
      "text/plain": [
       "2809"
      ]
     },
     "execution_count": 249,
     "metadata": {},
     "output_type": "execute_result"
    }
   ],
   "source": [
    "adult_whole_df14.filter(f.col('occupation').contains(\"?\")).count()"
   ]
  },
  {
   "cell_type": "code",
   "execution_count": 240,
   "id": "e64561d9",
   "metadata": {},
   "outputs": [
    {
     "data": {
      "text/plain": [
       "2799"
      ]
     },
     "execution_count": 240,
     "metadata": {},
     "output_type": "execute_result"
    }
   ],
   "source": [
    "adult_whole_df.filter(f.col('workclass').contains(\"?\")).count()"
   ]
  },
  {
   "cell_type": "code",
   "execution_count": 22,
   "id": "716063de",
   "metadata": {},
   "outputs": [
    {
     "name": "stdout",
     "output_type": "stream",
     "text": [
      "+----------------+-------------------+\n",
      "|workclass       |sum(hours_per_week)|\n",
      "+----------------+-------------------+\n",
      "|Self-emp-not-inc|171454.0           |\n",
      "|Local-gov       |128097.0           |\n",
      "|State-gov       |77439.0            |\n",
      "|Private         |1365501.0          |\n",
      "|Without-pay     |713.0              |\n",
      "|Federal-gov     |59447.0            |\n",
      "|Never-worked    |289.0              |\n",
      "|?               |89043.0            |\n",
      "|Self-emp-inc    |82327.0            |\n",
      "+----------------+-------------------+\n",
      "\n"
     ]
    }
   ],
   "source": [
    "adult_whole_df.groupBy(\"workclass\").sum(\"hours_per_week\").show(truncate=False)"
   ]
  },
  {
   "cell_type": "code",
   "execution_count": 23,
   "id": "4dd2e9cb",
   "metadata": {},
   "outputs": [
    {
     "name": "stdout",
     "output_type": "stream",
     "text": [
      "+------------+--------------------+-------------------+------------------+\n",
      "|   workclass|      marital_status|avg(hours_per_week)|          avg(age)|\n",
      "+------------+--------------------+-------------------+------------------+\n",
      "|   Local-gov|Married-spouse-ab...|  40.27272727272727| 39.63636363636363|\n",
      "| Federal-gov|       Never-married|  39.80978260869565| 33.91032608695652|\n",
      "|   State-gov|           Separated| 37.784615384615385| 40.43076923076923|\n",
      "|Self-emp-inc|             Widowed|   41.8780487804878|  62.5609756097561|\n",
      "| Without-pay|  Married-civ-spouse|  36.76923076923077| 56.38461538461539|\n",
      "|     Private|             Widowed|  34.49215246636771|57.393497757847534|\n",
      "|   Local-gov|       Never-married| 38.830827067669176|31.852130325814535|\n",
      "|Self-emp-inc|            Divorced|  50.31506849315068|46.157534246575345|\n",
      "| Without-pay|             Widowed|               50.0|              65.0|\n",
      "|           ?|       Never-married| 32.294736842105266|23.799190283400808|\n",
      "+------------+--------------------+-------------------+------------------+\n",
      "only showing top 10 rows\n",
      "\n"
     ]
    }
   ],
   "source": [
    "adult_whole_df.groupBy(\"workclass\",\"marital_status\") \\\n",
    "    .avg(\"hours_per_week\",\"age\").show(10)"
   ]
  },
  {
   "cell_type": "code",
   "execution_count": 24,
   "id": "c2d502f5",
   "metadata": {},
   "outputs": [
    {
     "data": {
      "text/html": [
       "<div>\n",
       "<style scoped>\n",
       "    .dataframe tbody tr th:only-of-type {\n",
       "        vertical-align: middle;\n",
       "    }\n",
       "\n",
       "    .dataframe tbody tr th {\n",
       "        vertical-align: top;\n",
       "    }\n",
       "\n",
       "    .dataframe thead th {\n",
       "        text-align: right;\n",
       "    }\n",
       "</style>\n",
       "<table border=\"1\" class=\"dataframe\">\n",
       "  <thead>\n",
       "    <tr style=\"text-align: right;\">\n",
       "      <th></th>\n",
       "      <th>race</th>\n",
       "      <th>sum_capital_gain</th>\n",
       "      <th>avg_hours</th>\n",
       "      <th>min_education_num</th>\n",
       "      <th>max_age</th>\n",
       "      <th>avg_age</th>\n",
       "      <th>stddev_samp(capital_gain)</th>\n",
       "    </tr>\n",
       "  </thead>\n",
       "  <tbody>\n",
       "    <tr>\n",
       "      <th>0</th>\n",
       "      <td>Other</td>\n",
       "      <td>399189.0</td>\n",
       "      <td>39.201970</td>\n",
       "      <td>1.0</td>\n",
       "      <td>77</td>\n",
       "      <td>33.657635</td>\n",
       "      <td>8650.182481</td>\n",
       "    </tr>\n",
       "    <tr>\n",
       "      <th>1</th>\n",
       "      <td>Amer-Indian-Eskimo</td>\n",
       "      <td>253319.0</td>\n",
       "      <td>40.272340</td>\n",
       "      <td>1.0</td>\n",
       "      <td>82</td>\n",
       "      <td>36.693617</td>\n",
       "      <td>2680.106448</td>\n",
       "    </tr>\n",
       "    <tr>\n",
       "      <th>2</th>\n",
       "      <td>Asian-Pac-Islander</td>\n",
       "      <td>2335108.0</td>\n",
       "      <td>39.884793</td>\n",
       "      <td>1.0</td>\n",
       "      <td>90</td>\n",
       "      <td>37.858460</td>\n",
       "      <td>10168.845627</td>\n",
       "    </tr>\n",
       "    <tr>\n",
       "      <th>3</th>\n",
       "      <td>Black</td>\n",
       "      <td>2755681.0</td>\n",
       "      <td>38.597866</td>\n",
       "      <td>1.0</td>\n",
       "      <td>90</td>\n",
       "      <td>37.914408</td>\n",
       "      <td>5000.937977</td>\n",
       "    </tr>\n",
       "  </tbody>\n",
       "</table>\n",
       "</div>"
      ],
      "text/plain": [
       "                 race  sum_capital_gain  avg_hours  min_education_num  \\\n",
       "0               Other          399189.0  39.201970                1.0   \n",
       "1  Amer-Indian-Eskimo          253319.0  40.272340                1.0   \n",
       "2  Asian-Pac-Islander         2335108.0  39.884793                1.0   \n",
       "3               Black         2755681.0  38.597866                1.0   \n",
       "\n",
       "   max_age    avg_age  stddev_samp(capital_gain)  \n",
       "0       77  33.657635                8650.182481  \n",
       "1       82  36.693617                2680.106448  \n",
       "2       90  37.858460               10168.845627  \n",
       "3       90  37.914408                5000.937977  "
      ]
     },
     "execution_count": 24,
     "metadata": {},
     "output_type": "execute_result"
    }
   ],
   "source": [
    "adult_whole_df.groupBy(\"race\") \\\n",
    "    .agg(sum(\"capital_gain\").alias(\"sum_capital_gain\"), \\\n",
    "         avg(\"hours_per_week\").alias(\"avg_hours\"), \\\n",
    "         min(\"education_num\").alias(\"min_education_num\"), \\\n",
    "         max(\"age\").alias(\"max_age\"), \\\n",
    "         avg(\"age\").alias(\"avg_age\"),\n",
    "         stddev(\"capital_gain\")\n",
    "     ).where(col(\"avg_age\")<=38) \\\n",
    "    .toPandas()"
   ]
  },
  {
   "cell_type": "code",
   "execution_count": 25,
   "id": "81300c47",
   "metadata": {},
   "outputs": [
    {
     "name": "stdout",
     "output_type": "stream",
     "text": [
      "+------------------+-----+\n",
      "|              race|count|\n",
      "+------------------+-----+\n",
      "|             Other|  406|\n",
      "|Amer-Indian-Eskimo|  470|\n",
      "|             White|41762|\n",
      "|Asian-Pac-Islander| 1519|\n",
      "|             Black| 4685|\n",
      "+------------------+-----+\n",
      "\n"
     ]
    }
   ],
   "source": [
    "adult_whole_df.groupBy(\"race\").count().show()"
   ]
  },
  {
   "cell_type": "markdown",
   "id": "23a44e86",
   "metadata": {},
   "source": [
    "## Correlation Analysis"
   ]
  },
  {
   "cell_type": "code",
   "execution_count": 253,
   "id": "1dc14960",
   "metadata": {},
   "outputs": [
    {
     "data": {
      "text/plain": [
       "-0.07662807893178847"
      ]
     },
     "execution_count": 253,
     "metadata": {},
     "output_type": "execute_result"
    }
   ],
   "source": [
    "adult_whole_df.corr(\"age\", \"fnlwgt\")"
   ]
  },
  {
   "cell_type": "code",
   "execution_count": null,
   "id": "0d130a58",
   "metadata": {},
   "outputs": [],
   "source": [
    "for col in adult_whole_df.columns:\n",
    "    adult_whole_df.corr()"
   ]
  },
  {
   "cell_type": "code",
   "execution_count": null,
   "id": "27d615a2",
   "metadata": {},
   "outputs": [],
   "source": []
  },
  {
   "cell_type": "markdown",
   "id": "756067da",
   "metadata": {},
   "source": [
    "## .when() & otherwise() \n",
    "It is similar to SQL Case When, executes sequence of expressions until it matches the condition and returns a value when match.\n",
    "AND (&) OR(|) NOT(!)"
   ]
  },
  {
   "cell_type": "code",
   "execution_count": 26,
   "id": "3832918d",
   "metadata": {},
   "outputs": [
    {
     "name": "stdout",
     "output_type": "stream",
     "text": [
      "+------+----------+\n",
      "|   sex|new_gender|\n",
      "+------+----------+\n",
      "|  Male|         1|\n",
      "|  Male|         1|\n",
      "|  Male|         1|\n",
      "|  Male|         1|\n",
      "|Female|         0|\n",
      "|Female|         0|\n",
      "|Female|         0|\n",
      "|  Male|         1|\n",
      "|Female|         0|\n",
      "|  Male|         1|\n",
      "+------+----------+\n",
      "only showing top 10 rows\n",
      "\n"
     ]
    }
   ],
   "source": [
    "adult_whole_df.select(adult_whole_df.sex, when(adult_whole_df.sex==\"Male\", 1) \\\n",
    "              .when(adult_whole_df.sex==\"Female\", 0) \\\n",
    "              .otherwise(adult_whole_df.sex).alias(\"new_gender\") \\\n",
    "    ).show(10)"
   ]
  },
  {
   "cell_type": "code",
   "execution_count": 27,
   "id": "ae3ed680",
   "metadata": {},
   "outputs": [
    {
     "name": "stdout",
     "output_type": "stream",
     "text": [
      "+----------------+---------+\n",
      "|education_merged|education|\n",
      "+----------------+---------+\n",
      "| Under-Education|Bachelors|\n",
      "| Under-Education|Bachelors|\n",
      "|         HS-grad|  HS-grad|\n",
      "|     High-School|     11th|\n",
      "| Under-Education|Bachelors|\n",
      "+----------------+---------+\n",
      "only showing top 5 rows\n",
      "\n"
     ]
    }
   ],
   "source": [
    "adult_whole_df = adult_whole_df \\\n",
    ".withColumn(\"education_merged\",when(f.col(\"education\") \\\n",
    ".isin(\"1st-4th\",\"5th-6th\",\"7th-8th\"),\"Elementary-School\") \\\n",
    ".when(f.col(\"education\").isin(\"9th\",\"10th\",\"11th\", \"12th\"),\"High-School\") \\\n",
    ".when(f.col(\"education\").isin(\"Masters\",\"Doctorate\"),\"High-Education\") \\\n",
    ".when(f.col(\"education\").isin(\"Bachelors\",\"Some-college\"),\"Under-Education\") \\\n",
    ".otherwise(col(\"education\")))\n",
    "adult_whole_df.select(\"education_merged\", \"education\").show(5)"
   ]
  },
  {
   "cell_type": "code",
   "execution_count": 35,
   "id": "ff67aead",
   "metadata": {},
   "outputs": [
    {
     "name": "stdout",
     "output_type": "stream",
     "text": [
      "+---------------------+\n",
      "|marital_status_merged|\n",
      "+---------------------+\n",
      "|               Single|\n",
      "|              Married|\n",
      "|               Single|\n",
      "|              Married|\n",
      "|              Married|\n",
      "+---------------------+\n",
      "only showing top 5 rows\n",
      "\n"
     ]
    }
   ],
   "source": [
    "adult_whole_df = adult_whole_df.withColumn(\"marital_status_merged\",\n",
    "       when((col(\"marital_status\") == \"Separated\") \n",
    "            | (col(\"marital_status\") == \"Widowed\") \n",
    "            | (col(\"marital_status\") == \"Divorced\") \n",
    "            | (col(\"marital_status\") == \"Never-married\"), \"Single\")\n",
    "      .otherwise(\"Married\"))\n",
    "\n",
    "adult_whole_df.select(\"marital_status_merged\").show(5)"
   ]
  },
  {
   "cell_type": "code",
   "execution_count": 32,
   "id": "02b47bb2",
   "metadata": {},
   "outputs": [
    {
     "name": "stdout",
     "output_type": "stream",
     "text": [
      "+---------------------+--------+\n",
      "|marital_status_merged|count(1)|\n",
      "+---------------------+--------+\n",
      "|              Married|   23044|\n",
      "|               Single|   25798|\n",
      "+---------------------+--------+\n",
      "\n"
     ]
    }
   ],
   "source": [
    "adult_whole_df.groupBy(\"marital_status_merged\").agg({\"*\":\"count\"}).show()"
   ]
  },
  {
   "cell_type": "markdown",
   "id": "52704f1e",
   "metadata": {},
   "source": [
    "## .drop()\n",
    "To drop dataframe's columns"
   ]
  },
  {
   "cell_type": "code",
   "execution_count": 33,
   "id": "498074f1",
   "metadata": {},
   "outputs": [],
   "source": [
    "adult_whole_df = adult_whole_df.drop(\"education\")"
   ]
  },
  {
   "cell_type": "markdown",
   "id": "dd185055",
   "metadata": {},
   "source": [
    "## .na.drop()\n",
    "To drop null values"
   ]
  },
  {
   "cell_type": "code",
   "execution_count": 53,
   "id": "38f7dfe0",
   "metadata": {},
   "outputs": [],
   "source": [
    "adult_whole_df = adult_whole_df.na.drop()"
   ]
  },
  {
   "cell_type": "markdown",
   "id": "fe36380a",
   "metadata": {},
   "source": [
    "## withColumnRenamed()\n",
    "Rename Column Name withColumnRenamed() funcsion"
   ]
  },
  {
   "cell_type": "code",
   "execution_count": 61,
   "id": "12b4a77e",
   "metadata": {},
   "outputs": [
    {
     "data": {
      "text/html": [
       "<div>\n",
       "<style scoped>\n",
       "    .dataframe tbody tr th:only-of-type {\n",
       "        vertical-align: middle;\n",
       "    }\n",
       "\n",
       "    .dataframe tbody tr th {\n",
       "        vertical-align: top;\n",
       "    }\n",
       "\n",
       "    .dataframe thead th {\n",
       "        text-align: right;\n",
       "    }\n",
       "</style>\n",
       "<table border=\"1\" class=\"dataframe\">\n",
       "  <thead>\n",
       "    <tr style=\"text-align: right;\">\n",
       "      <th></th>\n",
       "      <th>age</th>\n",
       "      <th>workclass</th>\n",
       "      <th>fnlwgt</th>\n",
       "      <th>education_num</th>\n",
       "      <th>marital_status</th>\n",
       "      <th>occupation</th>\n",
       "      <th>relationship</th>\n",
       "      <th>race</th>\n",
       "      <th>gender</th>\n",
       "      <th>capital_gain</th>\n",
       "      <th>capital_loss</th>\n",
       "      <th>hours_per_week</th>\n",
       "      <th>native_country</th>\n",
       "      <th>label</th>\n",
       "      <th>education_merged</th>\n",
       "      <th>marital_status_merged</th>\n",
       "    </tr>\n",
       "  </thead>\n",
       "  <tbody>\n",
       "    <tr>\n",
       "      <th>0</th>\n",
       "      <td>39</td>\n",
       "      <td>State-gov</td>\n",
       "      <td>77516.0</td>\n",
       "      <td>13.0</td>\n",
       "      <td>Never-married</td>\n",
       "      <td>Adm-clerical</td>\n",
       "      <td>Not-in-family</td>\n",
       "      <td>White</td>\n",
       "      <td>Male</td>\n",
       "      <td>2174.0</td>\n",
       "      <td>0.0</td>\n",
       "      <td>40.0</td>\n",
       "      <td>United-States</td>\n",
       "      <td>&lt;=50K</td>\n",
       "      <td>Under-Education</td>\n",
       "      <td>Single</td>\n",
       "    </tr>\n",
       "    <tr>\n",
       "      <th>1</th>\n",
       "      <td>50</td>\n",
       "      <td>Self-emp-not-inc</td>\n",
       "      <td>83311.0</td>\n",
       "      <td>13.0</td>\n",
       "      <td>Married-civ-spouse</td>\n",
       "      <td>Exec-managerial</td>\n",
       "      <td>Husband</td>\n",
       "      <td>White</td>\n",
       "      <td>Male</td>\n",
       "      <td>0.0</td>\n",
       "      <td>0.0</td>\n",
       "      <td>13.0</td>\n",
       "      <td>United-States</td>\n",
       "      <td>&lt;=50K</td>\n",
       "      <td>Under-Education</td>\n",
       "      <td>Married</td>\n",
       "    </tr>\n",
       "    <tr>\n",
       "      <th>2</th>\n",
       "      <td>38</td>\n",
       "      <td>Private</td>\n",
       "      <td>215646.0</td>\n",
       "      <td>9.0</td>\n",
       "      <td>Divorced</td>\n",
       "      <td>Handlers-cleaners</td>\n",
       "      <td>Not-in-family</td>\n",
       "      <td>White</td>\n",
       "      <td>Male</td>\n",
       "      <td>0.0</td>\n",
       "      <td>0.0</td>\n",
       "      <td>40.0</td>\n",
       "      <td>United-States</td>\n",
       "      <td>&lt;=50K</td>\n",
       "      <td>HS-grad</td>\n",
       "      <td>Single</td>\n",
       "    </tr>\n",
       "    <tr>\n",
       "      <th>3</th>\n",
       "      <td>53</td>\n",
       "      <td>Private</td>\n",
       "      <td>234721.0</td>\n",
       "      <td>7.0</td>\n",
       "      <td>Married-civ-spouse</td>\n",
       "      <td>Handlers-cleaners</td>\n",
       "      <td>Husband</td>\n",
       "      <td>Black</td>\n",
       "      <td>Male</td>\n",
       "      <td>0.0</td>\n",
       "      <td>0.0</td>\n",
       "      <td>40.0</td>\n",
       "      <td>United-States</td>\n",
       "      <td>&lt;=50K</td>\n",
       "      <td>High-School</td>\n",
       "      <td>Married</td>\n",
       "    </tr>\n",
       "    <tr>\n",
       "      <th>4</th>\n",
       "      <td>28</td>\n",
       "      <td>Private</td>\n",
       "      <td>338409.0</td>\n",
       "      <td>13.0</td>\n",
       "      <td>Married-civ-spouse</td>\n",
       "      <td>Prof-specialty</td>\n",
       "      <td>Wife</td>\n",
       "      <td>Black</td>\n",
       "      <td>Female</td>\n",
       "      <td>0.0</td>\n",
       "      <td>0.0</td>\n",
       "      <td>40.0</td>\n",
       "      <td>Cuba</td>\n",
       "      <td>&lt;=50K</td>\n",
       "      <td>Under-Education</td>\n",
       "      <td>Married</td>\n",
       "    </tr>\n",
       "  </tbody>\n",
       "</table>\n",
       "</div>"
      ],
      "text/plain": [
       "   age         workclass    fnlwgt  education_num      marital_status  \\\n",
       "0   39         State-gov   77516.0           13.0       Never-married   \n",
       "1   50  Self-emp-not-inc   83311.0           13.0  Married-civ-spouse   \n",
       "2   38           Private  215646.0            9.0            Divorced   \n",
       "3   53           Private  234721.0            7.0  Married-civ-spouse   \n",
       "4   28           Private  338409.0           13.0  Married-civ-spouse   \n",
       "\n",
       "          occupation   relationship   race  gender  capital_gain  \\\n",
       "0       Adm-clerical  Not-in-family  White    Male        2174.0   \n",
       "1    Exec-managerial        Husband  White    Male           0.0   \n",
       "2  Handlers-cleaners  Not-in-family  White    Male           0.0   \n",
       "3  Handlers-cleaners        Husband  Black    Male           0.0   \n",
       "4     Prof-specialty           Wife  Black  Female           0.0   \n",
       "\n",
       "   capital_loss  hours_per_week native_country  label education_merged  \\\n",
       "0           0.0            40.0  United-States  <=50K  Under-Education   \n",
       "1           0.0            13.0  United-States  <=50K  Under-Education   \n",
       "2           0.0            40.0  United-States  <=50K          HS-grad   \n",
       "3           0.0            40.0  United-States  <=50K      High-School   \n",
       "4           0.0            40.0           Cuba  <=50K  Under-Education   \n",
       "\n",
       "  marital_status_merged  \n",
       "0                Single  \n",
       "1               Married  \n",
       "2                Single  \n",
       "3               Married  \n",
       "4               Married  "
      ]
     },
     "execution_count": 61,
     "metadata": {},
     "output_type": "execute_result"
    }
   ],
   "source": [
    "adult_whole_df = adult_whole_df.withColumnRenamed(\"sex\", \"gender\") \\\n",
    "    .withColumnRenamed(\"output\", \"label\")\n",
    "adult_whole_df.limit(5).toPandas()"
   ]
  },
  {
   "cell_type": "markdown",
   "id": "a79d741c",
   "metadata": {},
   "source": [
    "## .distinct()"
   ]
  },
  {
   "cell_type": "code",
   "execution_count": 67,
   "id": "7a53ebf8",
   "metadata": {},
   "outputs": [
    {
     "data": {
      "text/plain": [
       "5"
      ]
     },
     "execution_count": 67,
     "metadata": {},
     "output_type": "execute_result"
    }
   ],
   "source": [
    "adult_whole_df.select(\"race\").distinct().count()"
   ]
  },
  {
   "cell_type": "code",
   "execution_count": 68,
   "id": "968d03a2",
   "metadata": {},
   "outputs": [
    {
     "name": "stdout",
     "output_type": "stream",
     "text": [
      "+------------------+\n",
      "|              race|\n",
      "+------------------+\n",
      "|             Other|\n",
      "|Amer-Indian-Eskimo|\n",
      "|             White|\n",
      "|Asian-Pac-Islander|\n",
      "|             Black|\n",
      "+------------------+\n",
      "\n"
     ]
    }
   ],
   "source": [
    "adult_whole_df.select(\"race\").distinct().show()"
   ]
  },
  {
   "cell_type": "markdown",
   "id": "42bd528a",
   "metadata": {},
   "source": [
    "## Detect Null Values\n",
    "#### We need to write a function to look up the number of null values in the columns"
   ]
  },
  {
   "cell_type": "code",
   "execution_count": 197,
   "id": "8da8dd85",
   "metadata": {},
   "outputs": [],
   "source": [
    "def show_columns_which_have_null_values(dataframe): \n",
    "    index = 0\n",
    "    for col in dataframe.columns:\n",
    "        if dataframe.filter(f.col(col).isNull()).count() > 0:\n",
    "            print(index, \".\", col, \" : There ara Null values\")\n",
    "        index += 1"
   ]
  },
  {
   "cell_type": "code",
   "execution_count": 191,
   "id": "e2e59713",
   "metadata": {},
   "outputs": [],
   "source": [
    "show_columns_which_have_null_values(adult_whole_df) # we don't have columns with missing values"
   ]
  },
  {
   "cell_type": "code",
   "execution_count": 186,
   "id": "11487743",
   "metadata": {},
   "outputs": [],
   "source": [
    "def get_null_values_as_pandas_dataframe(dataframe):\n",
    "    data = dict()\n",
    "    for sutun in adult_whole_df.columns:\n",
    "        data.update({f\"{sutun}\" : adult_whole_df.filter(f.col(sutun).isNull()).count()})\n",
    "    s1 = pd.Series(list(data.keys()))\n",
    "    s2 = pd.Series(list(data.values()))\n",
    "    df = pd.concat([s1, s2], axis=1)\n",
    "    df = df.rename(columns={0:\"Columns\", 1:\"Null_values\"})\n",
    "    return df"
   ]
  },
  {
   "cell_type": "code",
   "execution_count": 188,
   "id": "1313318b",
   "metadata": {},
   "outputs": [
    {
     "data": {
      "text/html": [
       "<div>\n",
       "<style scoped>\n",
       "    .dataframe tbody tr th:only-of-type {\n",
       "        vertical-align: middle;\n",
       "    }\n",
       "\n",
       "    .dataframe tbody tr th {\n",
       "        vertical-align: top;\n",
       "    }\n",
       "\n",
       "    .dataframe thead th {\n",
       "        text-align: right;\n",
       "    }\n",
       "</style>\n",
       "<table border=\"1\" class=\"dataframe\">\n",
       "  <thead>\n",
       "    <tr style=\"text-align: right;\">\n",
       "      <th></th>\n",
       "      <th>Columns</th>\n",
       "      <th>Null_values</th>\n",
       "    </tr>\n",
       "  </thead>\n",
       "  <tbody>\n",
       "    <tr>\n",
       "      <th>0</th>\n",
       "      <td>age</td>\n",
       "      <td>0</td>\n",
       "    </tr>\n",
       "    <tr>\n",
       "      <th>1</th>\n",
       "      <td>workclass</td>\n",
       "      <td>0</td>\n",
       "    </tr>\n",
       "    <tr>\n",
       "      <th>2</th>\n",
       "      <td>fnlwgt</td>\n",
       "      <td>0</td>\n",
       "    </tr>\n",
       "    <tr>\n",
       "      <th>3</th>\n",
       "      <td>education_num</td>\n",
       "      <td>0</td>\n",
       "    </tr>\n",
       "    <tr>\n",
       "      <th>4</th>\n",
       "      <td>marital_status</td>\n",
       "      <td>0</td>\n",
       "    </tr>\n",
       "    <tr>\n",
       "      <th>5</th>\n",
       "      <td>occupation</td>\n",
       "      <td>0</td>\n",
       "    </tr>\n",
       "    <tr>\n",
       "      <th>6</th>\n",
       "      <td>relationship</td>\n",
       "      <td>0</td>\n",
       "    </tr>\n",
       "    <tr>\n",
       "      <th>7</th>\n",
       "      <td>race</td>\n",
       "      <td>0</td>\n",
       "    </tr>\n",
       "    <tr>\n",
       "      <th>8</th>\n",
       "      <td>gender</td>\n",
       "      <td>0</td>\n",
       "    </tr>\n",
       "    <tr>\n",
       "      <th>9</th>\n",
       "      <td>capital_gain</td>\n",
       "      <td>0</td>\n",
       "    </tr>\n",
       "    <tr>\n",
       "      <th>10</th>\n",
       "      <td>capital_loss</td>\n",
       "      <td>0</td>\n",
       "    </tr>\n",
       "    <tr>\n",
       "      <th>11</th>\n",
       "      <td>hours_per_week</td>\n",
       "      <td>0</td>\n",
       "    </tr>\n",
       "    <tr>\n",
       "      <th>12</th>\n",
       "      <td>native_country</td>\n",
       "      <td>0</td>\n",
       "    </tr>\n",
       "    <tr>\n",
       "      <th>13</th>\n",
       "      <td>label</td>\n",
       "      <td>0</td>\n",
       "    </tr>\n",
       "    <tr>\n",
       "      <th>14</th>\n",
       "      <td>education_merged</td>\n",
       "      <td>0</td>\n",
       "    </tr>\n",
       "    <tr>\n",
       "      <th>15</th>\n",
       "      <td>marital_status_merged</td>\n",
       "      <td>0</td>\n",
       "    </tr>\n",
       "  </tbody>\n",
       "</table>\n",
       "</div>"
      ],
      "text/plain": [
       "                  Columns  Null_values\n",
       "0                     age            0\n",
       "1               workclass            0\n",
       "2                  fnlwgt            0\n",
       "3           education_num            0\n",
       "4          marital_status            0\n",
       "5              occupation            0\n",
       "6            relationship            0\n",
       "7                    race            0\n",
       "8                  gender            0\n",
       "9            capital_gain            0\n",
       "10           capital_loss            0\n",
       "11         hours_per_week            0\n",
       "12         native_country            0\n",
       "13                  label            0\n",
       "14       education_merged            0\n",
       "15  marital_status_merged            0"
      ]
     },
     "execution_count": 188,
     "metadata": {},
     "output_type": "execute_result"
    }
   ],
   "source": [
    "df = show_null_values_as_pandas_dataframe(adult_whole_df)\n",
    "df"
   ]
  },
  {
   "cell_type": "markdown",
   "id": "93534172",
   "metadata": {},
   "source": [
    "## Aggregate Functions"
   ]
  },
  {
   "cell_type": "code",
   "execution_count": 233,
   "id": "aff85047",
   "metadata": {},
   "outputs": [
    {
     "name": "stdout",
     "output_type": "stream",
     "text": [
      "+-------------------+\n",
      "|avg(hours_per_week)|\n",
      "+-------------------+\n",
      "| 40.422382375824085|\n",
      "+-------------------+\n",
      "\n",
      "None\n"
     ]
    }
   ],
   "source": [
    "#print(\"avg: \" + str(adult_whole_df.select(avg(\"hours_per_week\")).collect()[0][0]))\n",
    "#print(\"count: \"+str(adult_whole_df.select(count(\"hours_per_week\")).collect()[0]))\n",
    "#print(adult_whole_df.select(skewness(\"hours_per_week\")).show())\n",
    "#print(adult_whole_df.select(stddev(\"hours_per_week\")).show())\n",
    "#print(adult_whole_df.select(sum(\"hours_per_week\")).show())\n",
    "#print(adult_whole_df.select(max(\"hours_per_week\")).show())\n",
    "#print(adult_whole_df.select(min(\"hours_per_week\")).show())\n",
    "print(adult_whole_df.select(mean(\"hours_per_week\")).show())"
   ]
  },
  {
   "cell_type": "markdown",
   "id": "ef8d51ee",
   "metadata": {},
   "source": [
    "## fillna() & fill()\n",
    "DataFrame.fillna() or DataFrameNaFunctions.fill() is used to replace NULL/None values on all or selected multiple DataFrame columns with either zero(0), empty string, space, or any constant literal values."
   ]
  },
  {
   "cell_type": "code",
   "execution_count": null,
   "id": "e726e69f",
   "metadata": {},
   "outputs": [],
   "source": [
    "#Replace Replace 0 for null on only population column \n",
    "df.na.fill(value=0,subset=[\"population\"]).show()"
   ]
  },
  {
   "cell_type": "code",
   "execution_count": null,
   "id": "c6092892",
   "metadata": {},
   "outputs": [],
   "source": []
  },
  {
   "cell_type": "code",
   "execution_count": null,
   "id": "8fd8aa53",
   "metadata": {},
   "outputs": [],
   "source": []
  },
  {
   "cell_type": "markdown",
   "id": "2483480f",
   "metadata": {},
   "source": [
    "## sample()\n",
    "PySpark sampling (pyspark.sql.DataFrame.sample()) is a mechanism to get random sample records from the dataset, this is helpful when you have a larger dataset and wanted to analyze/test a subset of the data for example 10% of the original file."
   ]
  },
  {
   "cell_type": "code",
   "execution_count": 70,
   "id": "0023baa6",
   "metadata": {},
   "outputs": [
    {
     "name": "stdout",
     "output_type": "stream",
     "text": [
      "sample count :  9867\n",
      "original count :  48842\n"
     ]
    }
   ],
   "source": [
    "adult_random_sample_df = adult_whole_df.sample(fraction=0.2, seed=1234)\n",
    "print(\"sample count : \",adult_random_sample_df.count())\n",
    "print(\"original count : \", adult_whole_df.count())"
   ]
  },
  {
   "cell_type": "code",
   "execution_count": null,
   "id": "3872f662",
   "metadata": {},
   "outputs": [],
   "source": []
  }
 ],
 "metadata": {
  "kernelspec": {
   "display_name": "Python 3",
   "language": "python",
   "name": "python3"
  },
  "language_info": {
   "codemirror_mode": {
    "name": "ipython",
    "version": 3
   },
   "file_extension": ".py",
   "mimetype": "text/x-python",
   "name": "python",
   "nbconvert_exporter": "python",
   "pygments_lexer": "ipython3",
   "version": "3.9.4"
  }
 },
 "nbformat": 4,
 "nbformat_minor": 5
}
